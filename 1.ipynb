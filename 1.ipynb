{
 "cells": [
  {
   "cell_type": "markdown",
   "id": "36982e00-6c83-444e-9285-7f08521a2c7e",
   "metadata": {},
   "source": [
    "## Calculate the mean and standard deviation."
   ]
  },
  {
   "cell_type": "code",
   "execution_count": 5,
   "id": "cc3d230c-3967-4a74-924d-6b9d8760496d",
   "metadata": {},
   "outputs": [
    {
     "name": "stdout",
     "output_type": "stream",
     "text": [
      "Mean:  30.0\n",
      "Standard Deviation: 14.142135623730951\n"
     ]
    }
   ],
   "source": [
    "import numpy as np\n",
    "\n",
    "data = [10, 20, 30, 40, 50]\n",
    "\n",
    "mean_value = np.mean(data)\n",
    "std_deviation = np.std(data)\n",
    "\n",
    "print(\"Mean: \",mean_value)\n",
    "print(\"Standard Deviation:\", std_deviation)"
   ]
  },
  {
   "cell_type": "code",
   "execution_count": null,
   "id": "686c9bf3-6aac-4b51-94af-e59af8449722",
   "metadata": {},
   "outputs": [],
   "source": []
  }
 ],
 "metadata": {
  "kernelspec": {
   "display_name": "Python 3 (ipykernel)",
   "language": "python",
   "name": "python3"
  },
  "language_info": {
   "codemirror_mode": {
    "name": "ipython",
    "version": 3
   },
   "file_extension": ".py",
   "mimetype": "text/x-python",
   "name": "python",
   "nbconvert_exporter": "python",
   "pygments_lexer": "ipython3",
   "version": "3.13.2"
  }
 },
 "nbformat": 4,
 "nbformat_minor": 5
}
