{
 "cells": [
  {
   "cell_type": "markdown",
   "id": "d5c404e6-6b9c-43ba-83cd-4c05afc2583a",
   "metadata": {},
   "source": [
    "## Classification using Random Forest"
   ]
  },
  {
   "cell_type": "code",
   "execution_count": 4,
   "id": "f8bd0098-2df5-4afc-903e-bd05d36c5928",
   "metadata": {},
   "outputs": [
    {
     "name": "stdout",
     "output_type": "stream",
     "text": [
      "Accuracy: 1.00\n",
      "Sample prediction: setosa\n"
     ]
    }
   ],
   "source": [
    "from sklearn.datasets import load_iris\n",
    "from sklearn.model_selection import train_test_split\n",
    "from sklearn.ensemble import RandomForestClassifier\n",
    "from sklearn.metrics import accuracy_score\n",
    "\n",
    "# Load data and split\n",
    "iris = load_iris()\n",
    "X_train, X_test, y_train, y_test = train_test_split(iris.data, iris.target, test_size=0.2, \n",
    "random_state=42)\n",
    "\n",
    "# Train model and predict\n",
    "clf = RandomForestClassifier(n_estimators=10).fit(X_train, y_train)\n",
    "y_pred = clf.predict(X_test)\n",
    "\n",
    "# Print results\n",
    "print(\"Accuracy: {:.2f}\".format(accuracy_score(y_test, y_pred)))\n",
    "print(\"Sample prediction:\", iris.target_names[clf.predict([[5.1,3.5,1.4,0.2]])[0]])"
   ]
  },
  {
   "cell_type": "code",
   "execution_count": null,
   "id": "b00198a4-ad86-48b7-961a-0cc952bde4fd",
   "metadata": {},
   "outputs": [],
   "source": []
  },
  {
   "cell_type": "code",
   "execution_count": null,
   "id": "c5eece49-3879-47dd-ac73-353f81790e53",
   "metadata": {},
   "outputs": [],
   "source": []
  }
 ],
 "metadata": {
  "kernelspec": {
   "display_name": "Python 3 (ipykernel)",
   "language": "python",
   "name": "python3"
  },
  "language_info": {
   "codemirror_mode": {
    "name": "ipython",
    "version": 3
   },
   "file_extension": ".py",
   "mimetype": "text/x-python",
   "name": "python",
   "nbconvert_exporter": "python",
   "pygments_lexer": "ipython3",
   "version": "3.13.2"
  }
 },
 "nbformat": 4,
 "nbformat_minor": 5
}
