{
 "cells": [
  {
   "cell_type": "markdown",
   "id": "af54f502-9ccb-479b-bd80-e014b2730af6",
   "metadata": {},
   "source": [
    "## Calculate total sales by month"
   ]
  },
  {
   "cell_type": "code",
   "execution_count": 7,
   "id": "e6a9ca21-536d-404e-b9ad-8a41b51a46b7",
   "metadata": {},
   "outputs": [
    {
     "name": "stdout",
     "output_type": "stream",
     "text": [
      "Total Sales by Month:\n",
      "Date\n",
      "2025-01    30000\n",
      "2025-02    70000\n",
      "2025-03    50000\n",
      "Freq: M, Name: Sales, dtype: int64\n"
     ]
    }
   ],
   "source": [
    "import pandas as pd\n",
    "\n",
    "data = pd.read_csv('sales_data.csv')\n",
    "\n",
    "data['Date'] = pd.to_datetime(data['Date'], dayfirst=True)\n",
    "monthly_sales = data.groupby(data['Date'].dt.to_period('M'))['Sales'].sum()\n",
    "\n",
    "print(\"Total Sales by Month:\")\n",
    "print(monthly_sales)"
   ]
  },
  {
   "cell_type": "code",
   "execution_count": null,
   "id": "277f22c2-df9b-4569-8620-bb39aaed2d9f",
   "metadata": {},
   "outputs": [],
   "source": []
  }
 ],
 "metadata": {
  "kernelspec": {
   "display_name": "Python 3 (ipykernel)",
   "language": "python",
   "name": "python3"
  },
  "language_info": {
   "codemirror_mode": {
    "name": "ipython",
    "version": 3
   },
   "file_extension": ".py",
   "mimetype": "text/x-python",
   "name": "python",
   "nbconvert_exporter": "python",
   "pygments_lexer": "ipython3",
   "version": "3.13.2"
  }
 },
 "nbformat": 4,
 "nbformat_minor": 5
}
