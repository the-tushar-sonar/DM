{
 "cells": [
  {
   "cell_type": "markdown",
   "id": "4cbb7bae-5ce8-48b2-96d4-975f3aa39554",
   "metadata": {},
   "source": [
    "## Read CSV and Calculate Mean & Standard Deviation of Scores"
   ]
  },
  {
   "cell_type": "code",
   "execution_count": 1,
   "id": "24b5a546-3516-4229-95f3-758c31e701c8",
   "metadata": {},
   "outputs": [
    {
     "name": "stdout",
     "output_type": "stream",
     "text": [
      "Dataset:\n",
      "         Name  Scores\n",
      "0    Harshal      88\n",
      "1   Humanshu      87\n",
      "2     Tushar      88\n",
      "3  Shamakant      56\n",
      "4    Vikrant      99\n",
      "\n",
      "Mean:  70.28571428571429\n",
      "Standard Deviation:  27.201190450139528\n"
     ]
    }
   ],
   "source": [
    "import pandas as pd\n",
    "\n",
    "df = pd.read_csv(\"scores.csv\") \n",
    "print(\"Dataset:\\n\", df.head())\n",
    "\n",
    "mean_value = df['Scores'].mean()\n",
    "std_deviation = df['Scores'].std()\n",
    "\n",
    "print(\"\\nMean: \", mean_value)\n",
    "print(\"Standard Deviation: \", std_deviation)\n"
   ]
  },
  {
   "cell_type": "code",
   "execution_count": null,
   "id": "bbb12d0e-525f-40c7-b4f2-82910f003d91",
   "metadata": {},
   "outputs": [],
   "source": []
  },
  {
   "cell_type": "code",
   "execution_count": null,
   "id": "fd2a7441-195b-4d6d-b703-8d05e1f1091a",
   "metadata": {},
   "outputs": [],
   "source": []
  },
  {
   "cell_type": "code",
   "execution_count": null,
   "id": "829ce95a-2f6f-414e-ada9-6313c7840e93",
   "metadata": {},
   "outputs": [],
   "source": []
  }
 ],
 "metadata": {
  "kernelspec": {
   "display_name": "Python 3 (ipykernel)",
   "language": "python",
   "name": "python3"
  },
  "language_info": {
   "codemirror_mode": {
    "name": "ipython",
    "version": 3
   },
   "file_extension": ".py",
   "mimetype": "text/x-python",
   "name": "python",
   "nbconvert_exporter": "python",
   "pygments_lexer": "ipython3",
   "version": "3.13.2"
  }
 },
 "nbformat": 4,
 "nbformat_minor": 5
}
