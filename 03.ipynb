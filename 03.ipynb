{
 "cells": [
  {
   "cell_type": "markdown",
   "id": "c6c2bea4-6923-441b-900c-b89ee2acce26",
   "metadata": {},
   "source": [
    "## Perform data filtering, and calculate aggregate statistics"
   ]
  },
  {
   "cell_type": "code",
   "execution_count": 1,
   "id": "dc1302f0-c811-4c36-8ad0-8fd742ce2bbd",
   "metadata": {},
   "outputs": [
    {
     "name": "stdout",
     "output_type": "stream",
     "text": [
      "Original Data:\n",
      "        Name  Age  Salary\n",
      "0    Harshal   23   68000\n",
      "1   Humanshu   21   67000\n",
      "2     Tushar   21   65000\n",
      "3  Shamakant   20     150\n",
      "4    Millind   19     275\n",
      "\n",
      "Filtered Data (Age > 20):\n",
      "       Name  Age  Salary\n",
      "0   Harshal   23   68000\n",
      "1  Humanshu   21   67000\n",
      "2    Tushar   21   65000\n",
      "5   Vikrant   25   70000\n",
      "\n",
      "Aggregate Statistics:\n",
      "Mean Age: 22.5\n",
      "Median Salary: 67500.0\n",
      "Total Salary Sum: 270000\n"
     ]
    }
   ],
   "source": [
    "import pandas as pd\n",
    "\n",
    "# Load data\n",
    "df = pd.read_csv('salary.csv')\n",
    "print(\"Original Data:\")\n",
    "print(df.head())\n",
    "\n",
    "# Perform data filtering (Age > 20)\n",
    "filtered_df = df[df['Age'] > 20]\n",
    "\n",
    "# Calculate aggregate statistics\n",
    "mean_age = filtered_df['Age'].mean()\n",
    "median_salary = filtered_df['Salary'].median()\n",
    "total_salary = filtered_df['Salary'].sum()\n",
    "\n",
    "# Display results\n",
    "print(\"\\nFiltered Data (Age > 20):\")\n",
    "print(filtered_df)\n",
    "print(\"\\nAggregate Statistics:\")\n",
    "print(\"Mean Age:\", mean_age)\n",
    "print(\"Median Salary:\", median_salary)\n",
    "print(\"Total Salary Sum:\", total_salary)\n"
   ]
  },
  {
   "cell_type": "code",
   "execution_count": null,
   "id": "a05ca8b5-f225-43b3-b5fd-af61e4268bf8",
   "metadata": {},
   "outputs": [],
   "source": []
  }
 ],
 "metadata": {
  "kernelspec": {
   "display_name": "Python 3 (ipykernel)",
   "language": "python",
   "name": "python3"
  },
  "language_info": {
   "codemirror_mode": {
    "name": "ipython",
    "version": 3
   },
   "file_extension": ".py",
   "mimetype": "text/x-python",
   "name": "python",
   "nbconvert_exporter": "python",
   "pygments_lexer": "ipython3",
   "version": "3.13.2"
  }
 },
 "nbformat": 4,
 "nbformat_minor": 5
}
